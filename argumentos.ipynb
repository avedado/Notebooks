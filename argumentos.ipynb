{
 "cells": [
  {
   "cell_type": "markdown",
   "metadata": {},
   "source": [
    "Argumentos\n",
    "=====================\n",
    "\n",
    "### Paso de objetos inmutables:\n",
    "\n",
    "![metafora pulpo variables](../images/00%20metafora%20pulpo%20variables.png)\n",
    "\n",
    "![referencia objetos Python](../images/01%20Variables,%20objetos%20y%20referencias.png)\n",
    "\n",
    "![objeto con dos referencias](../images/02%20objeto%20con%20dos%20referencias.png)"
   ]
  },
  {
   "cell_type": "code",
   "execution_count": null,
   "metadata": {},
   "outputs": [
    {
     "name": "stdout",
     "output_type": "stream",
     "text": [
      "b =  88\n"
     ]
    }
   ],
   "source": [
    "def f(a):\t    \t\n",
    "\ta = 99 \t\t\t\n",
    "\n",
    "b = 88\t\t\n",
    "f(b)\t\t\t\t\n",
    "print(\"b = \", b)\t"
   ]
  },
  {
   "cell_type": "markdown",
   "metadata": {},
   "source": [
    "### Paso de objetos mutables:\n"
   ]
  },
  {
   "cell_type": "code",
   "execution_count": null,
   "metadata": {},
   "outputs": [
    {
     "name": "stdout",
     "output_type": "stream",
     "text": [
      "l =  ['spam', 2]\n"
     ]
    }
   ],
   "source": [
    "\n",
    "def changer(a, b):\t    \n",
    "\t\ta = 2\t\t\n",
    "\t\tb[0] = 'spam' \t\t\n",
    "\t\t\t\t\t\n",
    "x = 1\n",
    "l = [1, 2]\n",
    "changer(x, l)           \n",
    "print(\"l = \", l)       \n",
    "assert x == 1, \"x es 1\""
   ]
  },
  {
   "cell_type": "markdown",
   "metadata": {},
   "source": [
    " Para evitar que una rutina modifique los elementos mutables se hace lo siguiente:\n",
    "\n",
    " - Hacer una copia"
   ]
  },
  {
   "cell_type": "code",
   "execution_count": null,
   "metadata": {},
   "outputs": [
    {
     "name": "stdout",
     "output_type": "stream",
     "text": [
      "l =  [1, 2]\n"
     ]
    }
   ],
   "source": [
    "\n",
    "l = [1, 2]\n",
    "changer(x, l[:]) \t \n",
    "\n",
    "print(\"l = \", l) \n"
   ]
  },
  {
   "cell_type": "markdown",
   "metadata": {},
   "source": [
    " - Utilizar invariantes "
   ]
  },
  {
   "cell_type": "code",
   "execution_count": null,
   "metadata": {},
   "outputs": [
    {
     "name": "stdout",
     "output_type": "stream",
     "text": [
      "l =  [1, 2]\n"
     ]
    }
   ],
   "source": [
    "l = [1, 2]\n",
    "def changer(a, b):\n",
    "    b = b[:]\t\t\n",
    "    a = 2\n",
    "    b[0] = 'spam'\t\n",
    "\n",
    "changer(x, l)\n",
    "assert l == [1, 2], \"l es una invariante\"\n",
    "print(\"l = \", l) \n"
   ]
  },
  {
   "cell_type": "markdown",
   "metadata": {},
   "source": [
    " - Convertir el objeto mutable a uno inmutable:\n"
   ]
  },
  {
   "cell_type": "code",
   "execution_count": null,
   "metadata": {},
   "outputs": [
    {
     "ename": "TypeError",
     "evalue": "'tuple' object does not support item assignment",
     "output_type": "error",
     "traceback": [
      "\u001b[0;31m---------------------------------------------------------------------------\u001b[0m",
      "\u001b[0;31mTypeError\u001b[0m                                 Traceback (most recent call last)",
      "Cell \u001b[0;32mIn[13], line 6\u001b[0m\n\u001b[1;32m      3\u001b[0m \t\ta \u001b[38;5;241m=\u001b[39m \u001b[38;5;241m2\u001b[39m\t\t\t\n\u001b[1;32m      4\u001b[0m \t\tb[\u001b[38;5;241m0\u001b[39m] \u001b[38;5;241m=\u001b[39m \u001b[38;5;124m'\u001b[39m\u001b[38;5;124mspam\u001b[39m\u001b[38;5;124m'\u001b[39m   \u001b[38;5;66;03m# TypeError: 'tuple' object does not support item assignment\u001b[39;00m\n\u001b[0;32m----> 6\u001b[0m \u001b[43mchanger\u001b[49m\u001b[43m(\u001b[49m\u001b[43mx\u001b[49m\u001b[43m,\u001b[49m\u001b[43m \u001b[49m\u001b[38;5;28;43mtuple\u001b[39;49m\u001b[43m(\u001b[49m\u001b[43ml\u001b[49m\u001b[43m)\u001b[49m\u001b[43m)\u001b[49m\t\u001b[38;5;66;03m# Pass a tuple, so changes are errors\u001b[39;00m\n\u001b[1;32m      8\u001b[0m \u001b[38;5;28mprint\u001b[39m(\u001b[38;5;124m\"\u001b[39m\u001b[38;5;124ml = \u001b[39m\u001b[38;5;124m\"\u001b[39m, l)\n\u001b[1;32m      9\u001b[0m \u001b[38;5;28;01massert\u001b[39;00m l \u001b[38;5;241m==\u001b[39m [\u001b[38;5;241m1\u001b[39m, \u001b[38;5;241m2\u001b[39m], \u001b[38;5;124m\"\u001b[39m\u001b[38;5;124ml es una invariante\u001b[39m\u001b[38;5;124m\"\u001b[39m\n",
      "Cell \u001b[0;32mIn[13], line 4\u001b[0m, in \u001b[0;36mchanger\u001b[0;34m(a, b)\u001b[0m\n\u001b[1;32m      2\u001b[0m \u001b[38;5;28;01mdef\u001b[39;00m \u001b[38;5;21mchanger\u001b[39m(a, b):\t   \n\u001b[1;32m      3\u001b[0m \t\ta \u001b[38;5;241m=\u001b[39m \u001b[38;5;241m2\u001b[39m\t\t\t\n\u001b[0;32m----> 4\u001b[0m \t\t\u001b[43mb\u001b[49m\u001b[43m[\u001b[49m\u001b[38;5;241;43m0\u001b[39;49m\u001b[43m]\u001b[49m \u001b[38;5;241m=\u001b[39m \u001b[38;5;124m'\u001b[39m\u001b[38;5;124mspam\u001b[39m\u001b[38;5;124m'\u001b[39m\n",
      "\u001b[0;31mTypeError\u001b[0m: 'tuple' object does not support item assignment"
     ]
    }
   ],
   "source": [
    "\n",
    "l = [1, 2]\n",
    "def changer(a, b):\t   \n",
    "\t\ta = 2\t\t\t\n",
    "\t\tb[0] = 'spam'  \n",
    "\n",
    "changer(x, tuple(l))\t\n",
    "\n",
    "print(\"l = \", l)\n",
    "assert l == [1, 2], \"l es una invariante\"\n"
   ]
  },
  {
   "cell_type": "markdown",
   "metadata": {},
   "source": [
    "## Coincidencia de argumentos\n"
   ]
  },
  {
   "cell_type": "markdown",
   "metadata": {},
   "source": [
    "### Palabras clave y ejemplos \n",
    "\n",
    "##### 1. Comportamiento por defecto:"
   ]
  },
  {
   "cell_type": "code",
   "execution_count": null,
   "metadata": {},
   "outputs": [
    {
     "name": "stdout",
     "output_type": "stream",
     "text": [
      "1 2 3\n"
     ]
    }
   ],
   "source": [
    "def f(a, b, c): \n",
    "    print(a, b, c)\n",
    "\n",
    "f(1, 2, 3)          "
   ]
  },
  {
   "cell_type": "markdown",
   "metadata": {},
   "source": [
    "##### 2. Palabras clave\n",
    "\n",
    "Los argumentos coinciden por nombre, no por posición."
   ]
  },
  {
   "cell_type": "code",
   "execution_count": null,
   "metadata": {},
   "outputs": [
    {
     "name": "stdout",
     "output_type": "stream",
     "text": [
      "1 2 3\n"
     ]
    }
   ],
   "source": [
    "def f(a, b, c): \n",
    "    print(a, b, c)\n",
    "\n",
    "f(c=3, b=2, a=1)    "
   ]
  },
  {
   "cell_type": "code",
   "execution_count": null,
   "metadata": {},
   "outputs": [
    {
     "name": "stdout",
     "output_type": "stream",
     "text": [
      "1 2 3\n"
     ]
    }
   ],
   "source": [
    "f(1, c=3, b=2)\t\t"
   ]
  },
  {
   "cell_type": "markdown",
   "metadata": {},
   "source": [
    "##### 3. Valores predeterminados\n",
    "\n",
    "Hacen que los argumentos de la función sean opcionales; \n",
    "\n",
    "Si no se les pasa un valor, al argumento se le asigna su valor predeterminado antes de que se ejecute la función.\n"
   ]
  },
  {
   "cell_type": "code",
   "execution_count": null,
   "metadata": {},
   "outputs": [
    {
     "name": "stdout",
     "output_type": "stream",
     "text": [
      "1 2 3\n",
      "1 2 3\n"
     ]
    }
   ],
   "source": [
    "\n",
    "def f(a, b=2, c=3): \t\n",
    "\tprint(a, b, c)\n",
    "\n",
    "\n",
    "f(1)      \n",
    "f(a=1)      "
   ]
  },
  {
   "cell_type": "markdown",
   "metadata": {},
   "source": [
    "Si le pasamos valores, solo a los que no se los pasamos obtiene su valor predeterminado."
   ]
  },
  {
   "cell_type": "code",
   "execution_count": null,
   "metadata": {},
   "outputs": [
    {
     "name": "stdout",
     "output_type": "stream",
     "text": [
      "1 4 3\n",
      "1 4 5\n",
      "1 2 6\n"
     ]
    }
   ],
   "source": [
    "def f(a, b=2, c=3): \n",
    "\tprint(a, b, c)\n",
    "    \n",
    "f(1, 4)     \n",
    "f(1, 4, 5)\t\n",
    "\n",
    "f(1, c=6)\t"
   ]
  },
  {
   "cell_type": "markdown",
   "metadata": {},
   "source": [
    "##### 4. Palabras clave y valores predeterminados\n",
    "\n",
    "Cuando se utilizan argumentos de palabras clave en la llamada, el orden en el que se enumeran los argumentos no importa.\n",
    " "
   ]
  },
  {
   "cell_type": "code",
   "execution_count": null,
   "metadata": {},
   "outputs": [
    {
     "name": "stdout",
     "output_type": "stream",
     "text": [
      "(1, 2, 0, 0)\n",
      "(1, 0, 0, 1)\n",
      "(1, 0, 0, 0)\n",
      "(3, 2, 1, 0)\n",
      "(1, 2, 3, 4)\n"
     ]
    }
   ],
   "source": [
    "\n",
    "def func(spam, eggs, toast=0, ham=0):\n",
    "\tprint((spam, eggs, toast, ham)) \t\n",
    "\n",
    "func(1, 2)\t\t\t\t\t\t\t\n",
    "func(1, ham=1, eggs=0)\t\t\t\t\n",
    "func(spam=1, eggs=0)\t\t\t\t\n",
    "func(toast=1, eggs=2, spam=3)\t\t\n",
    "func(1, 2, 3, 4) \t\t\t\t\t\n"
   ]
  },
  {
   "cell_type": "markdown",
   "metadata": {},
   "source": [
    "##### 5. Argumentos de palabras clave:\n",
    "\n",
    "El carácter `*` en la lista de argumentos sirve para indicar que una función\n",
    "espera todos los argumentos.\n",
    "\n",
    "Y el `*` que se pasará como palabras clave."
   ]
  },
  {
   "cell_type": "code",
   "execution_count": null,
   "metadata": {},
   "outputs": [
    {
     "name": "stdout",
     "output_type": "stream",
     "text": [
      "1 (2,) 3\n",
      "1 () 3\n"
     ]
    },
    {
     "ename": "TypeError",
     "evalue": "kwonly() missing 1 required keyword-only argument: 'c'",
     "output_type": "error",
     "traceback": [
      "\u001b[0;31m---------------------------------------------------------------------------\u001b[0m",
      "\u001b[0;31mTypeError\u001b[0m                                 Traceback (most recent call last)",
      "Cell \u001b[0;32mIn[18], line 8\u001b[0m\n\u001b[1;32m      4\u001b[0m kwonly(\u001b[38;5;241m1\u001b[39m, \u001b[38;5;241m2\u001b[39m, c\u001b[38;5;241m=\u001b[39m\u001b[38;5;241m3\u001b[39m)       \u001b[38;5;66;03m# 1 (2,) 3\u001b[39;00m\n\u001b[1;32m      6\u001b[0m kwonly(a\u001b[38;5;241m=\u001b[39m\u001b[38;5;241m1\u001b[39m, c\u001b[38;5;241m=\u001b[39m\u001b[38;5;241m3\u001b[39m)        \u001b[38;5;66;03m# 1 () 3\u001b[39;00m\n\u001b[0;32m----> 8\u001b[0m \u001b[43mkwonly\u001b[49m\u001b[43m(\u001b[49m\u001b[38;5;241;43m1\u001b[39;49m\u001b[43m,\u001b[49m\u001b[43m \u001b[49m\u001b[38;5;241;43m2\u001b[39;49m\u001b[43m,\u001b[49m\u001b[43m \u001b[49m\u001b[38;5;241;43m3\u001b[39;49m\u001b[43m)\u001b[49m         \u001b[38;5;66;03m# TypeError: kwonly() missing 1 required keyword-only argument: 'c'\u001b[39;00m\n",
      "\u001b[0;31mTypeError\u001b[0m: kwonly() missing 1 required keyword-only argument: 'c'"
     ]
    }
   ],
   "source": [
    "def kwonly(a, *b, c):\n",
    "    print(a, b, c)\n",
    "\n",
    "kwonly(1, 2, c=3)     \n",
    "\n",
    "kwonly(a=1, c=3)        \n",
    "\n",
    "kwonly(1, 2, 3)         "
   ]
  },
  {
   "cell_type": "code",
   "execution_count": null,
   "metadata": {},
   "outputs": [
    {
     "name": "stdout",
     "output_type": "stream",
     "text": [
      "1 spam ham\n",
      "1 spam 3\n",
      "1 spam ham\n",
      "1 2 3\n"
     ]
    },
    {
     "ename": "TypeError",
     "evalue": "kwonly() takes 1 positional argument but 2 were given",
     "output_type": "error",
     "traceback": [
      "\u001b[0;31m---------------------------------------------------------------------------\u001b[0m",
      "\u001b[0;31mTypeError\u001b[0m                                 Traceback (most recent call last)",
      "Cell \u001b[0;32mIn[19], line 8\u001b[0m\n\u001b[1;32m      6\u001b[0m kwonly(a\u001b[38;5;241m=\u001b[39m\u001b[38;5;241m1\u001b[39m)             \u001b[38;5;66;03m# 1 spam ham\u001b[39;00m\n\u001b[1;32m      7\u001b[0m kwonly(c\u001b[38;5;241m=\u001b[39m\u001b[38;5;241m3\u001b[39m, b\u001b[38;5;241m=\u001b[39m\u001b[38;5;241m2\u001b[39m, a\u001b[38;5;241m=\u001b[39m\u001b[38;5;241m1\u001b[39m)   \u001b[38;5;66;03m# 1 2 3\u001b[39;00m\n\u001b[0;32m----> 8\u001b[0m \u001b[43mkwonly\u001b[49m\u001b[43m(\u001b[49m\u001b[38;5;241;43m1\u001b[39;49m\u001b[43m,\u001b[49m\u001b[43m \u001b[49m\u001b[38;5;241;43m2\u001b[39;49m\u001b[43m)\u001b[49m            \u001b[38;5;66;03m# TypeError: kwonly() takes 1 positional argument but 2 were given\u001b[39;00m\n",
      "\u001b[0;31mTypeError\u001b[0m: kwonly() takes 1 positional argument but 2 were given"
     ]
    }
   ],
   "source": [
    "\n",
    "def kwonly(a, *, b='spam', c='ham'):\n",
    "\tprint(a, b, c)\n",
    "\n",
    "kwonly(1)             \n",
    "kwonly(1, c=3)         \n",
    "kwonly(a=1)            \n",
    "kwonly(c=3, b=2, a=1)   \n",
    "kwonly(1, 2)            "
   ]
  },
  {
   "cell_type": "code",
   "execution_count": null,
   "metadata": {},
   "outputs": [
    {
     "ename": "TypeError",
     "evalue": "kwonly() missing 1 required keyword-only argument: 'b'",
     "output_type": "error",
     "traceback": [
      "\u001b[0;31m---------------------------------------------------------------------------\u001b[0m",
      "\u001b[0;31mTypeError\u001b[0m                                 Traceback (most recent call last)",
      "Cell \u001b[0;32mIn[20], line 4\u001b[0m\n\u001b[1;32m      1\u001b[0m \u001b[38;5;28;01mdef\u001b[39;00m \u001b[38;5;21mkwonly\u001b[39m(a, \u001b[38;5;241m*\u001b[39m, b, c\u001b[38;5;241m=\u001b[39m\u001b[38;5;124m'\u001b[39m\u001b[38;5;124mspam\u001b[39m\u001b[38;5;124m'\u001b[39m):\n\u001b[1;32m      2\u001b[0m     \u001b[38;5;28mprint\u001b[39m(a, b, c)\n\u001b[0;32m----> 4\u001b[0m \u001b[43mkwonly\u001b[49m\u001b[43m(\u001b[49m\u001b[38;5;241;43m1\u001b[39;49m\u001b[43m,\u001b[49m\u001b[43m \u001b[49m\u001b[43mc\u001b[49m\u001b[38;5;241;43m=\u001b[39;49m\u001b[38;5;124;43m'\u001b[39;49m\u001b[38;5;124;43meggs\u001b[39;49m\u001b[38;5;124;43m'\u001b[39;49m\u001b[43m)\u001b[49m     \u001b[38;5;66;03m# TypeError: kwonly() missing 1 required keyword-only argument: 'b'\u001b[39;00m\n",
      "\u001b[0;31mTypeError\u001b[0m: kwonly() missing 1 required keyword-only argument: 'b'"
     ]
    }
   ],
   "source": [
    "\n",
    "def kwonly(a, *, b, c='spam'):\n",
    "    print(a, b, c)\n",
    "\n",
    "kwonly(1, c='eggs')    "
   ]
  },
  {
   "cell_type": "markdown",
   "metadata": {},
   "source": [
    "## Ejemplos de argumentos arbitrarios\n",
    "`*` y `** `, están diseñadas para admitir funciones que toman cualquier cantidad de argumentos. \n",
    "\n",
    "\n",
    "### Recopilan argumentos\n",
    "En la función definición, recopila argumentos posicionales en una tupla y asigna la variable a esa tupla."
   ]
  },
  {
   "cell_type": "code",
   "execution_count": null,
   "metadata": {},
   "outputs": [
    {
     "name": "stdout",
     "output_type": "stream",
     "text": [
      "()\n",
      "(1,)\n",
      "(1, 2, 3, 4)\n"
     ]
    }
   ],
   "source": [
    "def f(*args):\n",
    "    print(args)\n",
    "\n",
    "f()                 \n",
    "f(1,)              \n",
    "f(1, 2, 3, 4)        "
   ]
  },
  {
   "cell_type": "markdown",
   "metadata": {},
   "source": [
    "`**` solo funciona para argumentos de palabras clave y los recopila en un nuevo diccionario."
   ]
  },
  {
   "cell_type": "code",
   "execution_count": null,
   "metadata": {},
   "outputs": [
    {
     "name": "stdout",
     "output_type": "stream",
     "text": [
      "{}\n",
      "{'a': 1, 'b': 2}\n"
     ]
    }
   ],
   "source": [
    "def f(**args):\n",
    "    print(args)\n",
    "f()                \n",
    "f(a=1, b=2)        "
   ]
  },
  {
   "cell_type": "code",
   "execution_count": null,
   "metadata": {},
   "outputs": [
    {
     "name": "stdout",
     "output_type": "stream",
     "text": [
      "1 (2, 3) {'x': 1, 'y': 2}\n"
     ]
    }
   ],
   "source": [
    "def f(a, *pargs, **kargs):\n",
    "    print(a, pargs, kargs)\n",
    "f(1, 2, 3, x=1, y=2)       "
   ]
  },
  {
   "cell_type": "markdown",
   "metadata": {},
   "source": [
    "### Descomprimr argumentos\n",
    "`*` en una función de llamada, descomprime una colección de argumentos"
   ]
  },
  {
   "cell_type": "code",
   "execution_count": null,
   "metadata": {},
   "outputs": [
    {
     "name": "stdout",
     "output_type": "stream",
     "text": [
      "1 2 3 4\n"
     ]
    }
   ],
   "source": [
    "def func(a, b, c, d): print(a, b, c, d)\n",
    "\n",
    "args = (1, 2)\n",
    "args += (3, 4)\n",
    "func(*args)       "
   ]
  },
  {
   "cell_type": "code",
   "execution_count": null,
   "metadata": {},
   "outputs": [
    {
     "name": "stdout",
     "output_type": "stream",
     "text": [
      "1 2 3 4\n"
     ]
    }
   ],
   "source": [
    "args = {'a': 1, 'b': 2, 'c': 3}\n",
    "args['d'] = 4\n",
    "func(**args)   "
   ]
  },
  {
   "cell_type": "code",
   "execution_count": null,
   "metadata": {},
   "outputs": [
    {
     "name": "stdout",
     "output_type": "stream",
     "text": [
      "1 2 3 4\n",
      "1 2 3 4\n",
      "1 2 3 4\n",
      "1 2 3 4\n",
      "1 2 3 4\n"
     ]
    }
   ],
   "source": [
    "func(*(1, 2), **{'d': 4, 'c': 3})      \n",
    "\n",
    "func(1, *(2, 3), **{'d': 4})         \n",
    "\n",
    "func(1, c=3, *(2,), **{'d': 4})         \n",
    "\n",
    "func(1, *(2, 3), d=4)                 \n",
    "\n",
    "func(1, *(2,), c=3, **{'d':4})      \n",
    "\n"
   ]
  }
 ],
 "metadata": {
  "kernelspec": {
   "display_name": "Python 3",
   "language": "python",
   "name": "python3"
  },
  "language_info": {
   "codemirror_mode": {
    "name": "ipython",
    "version": 3
   },
   "file_extension": ".py",
   "mimetype": "text/x-python",
   "name": "python",
   "nbconvert_exporter": "python",
   "pygments_lexer": "ipython3",
   "version": "3.12.6"
  },
  "orig_nbformat": 2
 },
 "nbformat": 4,
 "nbformat_minor": 2
}
