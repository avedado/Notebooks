{
 "cells": [
  {
   "cell_type": "markdown",
   "metadata": {},
   "source": [
    "## VARIABLES LOCALES Y GLOBALES\n"
   ]
  },
  {
   "cell_type": "code",
   "execution_count": null,
   "metadata": {},
   "outputs": [
    {
     "name": "stdout",
     "output_type": "stream",
     "text": [
      "88\n"
     ]
    }
   ],
   "source": [
    "x = 88 \t\t# Global \n",
    "\n",
    "def func():\n",
    "\tx = 99 \t# Local\n",
    "\n",
    "func()\n",
    "print(x) "
   ]
  },
  {
   "cell_type": "code",
   "execution_count": null,
   "metadata": {},
   "outputs": [
    {
     "name": "stdout",
     "output_type": "stream",
     "text": [
      "x = 99\n"
     ]
    }
   ],
   "source": [
    "x = 88 \t\t\t# Global \n",
    "\n",
    "def func():\n",
    "\tglobal x\n",
    "\tx = 99 \t\t# Global X\n",
    "\n",
    "func()\n",
    "print(\"x =\", x) \n"
   ]
  },
  {
   "cell_type": "markdown",
   "metadata": {},
   "source": [
    "## Regla LEGB "
   ]
  },
  {
   "cell_type": "code",
   "execution_count": null,
   "metadata": {},
   "outputs": [
    {
     "name": "stdout",
     "output_type": "stream",
     "text": [
      "x = 3, y = 1, z = 2\n"
     ]
    }
   ],
   "source": [
    "y, z = 1, 2        \n",
    "\n",
    "def all_global():\n",
    "\tglobal x       \n",
    "\tx = y + z       \n",
    "\n",
    "all_global()\n",
    "print('x = %d, y = %d, z = %d' % (x, y, z))\n"
   ]
  },
  {
   "cell_type": "markdown",
   "metadata": {},
   "source": [
    "## ÁMBITOS ANIDADOS"
   ]
  },
  {
   "cell_type": "code",
   "execution_count": null,
   "metadata": {},
   "outputs": [
    {
     "name": "stdout",
     "output_type": "stream",
     "text": [
      "x local =  88\n",
      "x global =  99\n"
     ]
    }
   ],
   "source": [
    "\n",
    "x = 99                      \n",
    "\n",
    "def f1():\n",
    "    x = 88\n",
    "    def f2():               \n",
    "        print(\"x local = \", x)    \n",
    "    f2()                   \n",
    "\n",
    "f1()                       \n",
    "print(\"x global = \", x)    "
   ]
  },
  {
   "cell_type": "markdown",
   "metadata": {},
   "source": [
    "## Cierres\n",
    "\n",
    "Un cierre describe una técnica de programación funcional.\n",
    "\n",
    "Una factory function denota un patrón de diseño."
   ]
  },
  {
   "cell_type": "code",
   "execution_count": null,
   "metadata": {},
   "outputs": [
    {
     "name": "stdout",
     "output_type": "stream",
     "text": [
      "x = 88\n"
     ]
    }
   ],
   "source": [
    "def f1():\n",
    "\tx = 88                \n",
    "\tdef f2():\n",
    "\t\tprint(\"x =\", x)   \n",
    "\treturn f2 \t          \n",
    "\n",
    "action = f1()       \n",
    "action() \t"
   ]
  },
  {
   "cell_type": "code",
   "execution_count": null,
   "metadata": {},
   "outputs": [
    {
     "data": {
      "text/plain": [
       "16"
      ]
     },
     "execution_count": 8,
     "metadata": {},
     "output_type": "execute_result"
    }
   ],
   "source": [
    "def maker(n):\n",
    "\tdef action(x):\t\t\n",
    "\t\treturn x ** n \n",
    "\treturn action\n",
    "\n",
    "f = maker(2)            \n",
    "f(3)                   \n",
    "\n",
    "f(4)\t\t            "
   ]
  }
 ],
 "metadata": {
  "kernelspec": {
   "display_name": "Python 3.6.9 64-bit",
   "name": "python36964bit726dce05b3144e9e80719d87a8e14857"
  },
  "language_info": {
   "codemirror_mode": {
    "name": "ipython",
    "version": 3
   },
   "file_extension": ".py",
   "mimetype": "text/x-python",
   "name": "python",
   "nbconvert_exporter": "python",
   "pygments_lexer": "ipython3",
   "version": "3.6.9-final"
  },
  "orig_nbformat": 2
 },
 "nbformat": 4,
 "nbformat_minor": 2
}
