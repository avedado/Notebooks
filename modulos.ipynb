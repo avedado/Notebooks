{
 "cells": [
  {
   "cell_type": "markdown",
   "metadata": {},
   "source": [
    "Módulos \n",
    "==============\n",
    "\n",
    "![dependencias modulos en Python](../images/04%20dependencias%20modulos.png)\n",
    "\n",
    "\n",
    "principalmente se crea un documeno llamado modulo.py en la carpeta src con la siguiente función:\n",
    "\n",
    "para que este posteriormente pueda ser importado. \n"
   ]
  },
  {
   "cell_type": "code",
   "execution_count": null,
   "metadata": {},
   "outputs": [],
   "source": [
    "def printer(x):     \n",
    "    print(x)"
   ]
  },
  {
   "cell_type": "markdown",
   "metadata": {},
   "source": [
    "## Uso de módulos\n",
    "\n",
    "Se puede usar un módulo ya creado ejecutando una sentencia `import` o `from`. \n",
    "\n",
    "`import` carga el modulo como un conjunto, se debe incluir el nombre del módulo cuando se nombra a sus atributos y `from` carga nombres específicos del módulo."
   ]
  },
  {
   "cell_type": "markdown",
   "metadata": {},
   "source": [
    "### `sys.path`\n",
    "\n",
    "Se invoca en consola `python`.\n",
    "\n",
    "Se puede acceder a la ruta de búsqueda de módulos mediante `sys.path`.\n",
    "\n",
    "Añadiendo `..` a esta ruta las importaciones `src.modulo` se resuelven correctamente para \"subir\" hasta el directorio principal del proyecto para encontrar el directorio `src`."
   ]
  },
  {
   "cell_type": "code",
   "execution_count": 2,
   "metadata": {},
   "outputs": [],
   "source": [
    "import sys\n",
    "sys.path.append('..')"
   ]
  },
  {
   "cell_type": "markdown",
   "metadata": {},
   "source": [
    "### `import`\n",
    "\n",
    "Lista uno o más nombres de módulos para cargar separados por comas."
   ]
  },
  {
   "cell_type": "code",
   "execution_count": null,
   "metadata": {},
   "outputs": [
    {
     "name": "stdout",
     "output_type": "stream",
     "text": [
      "Hello world!\n"
     ]
    }
   ],
   "source": [
    "import src.modulo as modulo                      \n",
    "modulo.printer(\"Hello world!\")                  \n"
   ]
  },
  {
   "cell_type": "markdown",
   "metadata": {},
   "source": [
    "### `from`\n",
    "\n",
    "Copia los nombres de un fichero a otro ámbito y permite listar uno o más nombres para ser copiados separados por comas."
   ]
  },
  {
   "cell_type": "code",
   "execution_count": null,
   "metadata": {},
   "outputs": [
    {
     "name": "stdout",
     "output_type": "stream",
     "text": [
      "Hello world!\n"
     ]
    }
   ],
   "source": [
    "from src.modulo import printer     \n",
    "printer('Hello world!')           \n"
   ]
  },
  {
   "cell_type": "markdown",
   "metadata": {},
   "source": [
    "### from *\n",
    "\n",
    "`*` copia todos los nombres asignados al ámbito global del módulo referenciado."
   ]
  },
  {
   "cell_type": "code",
   "execution_count": null,
   "metadata": {},
   "outputs": [
    {
     "name": "stdout",
     "output_type": "stream",
     "text": [
      "Hello world!\n"
     ]
    }
   ],
   "source": [
    "from src.modulo import *       # Copy todas las variables \n",
    "printer('Hello world!')\n"
   ]
  },
  {
   "cell_type": "markdown",
   "metadata": {},
   "source": [
    "### Importaciones\n",
    "\n",
    "Se ejecuta una única vez por proceso. \n"
   ]
  },
  {
   "cell_type": "code",
   "execution_count": null,
   "metadata": {},
   "outputs": [
    {
     "name": "stdout",
     "output_type": "stream",
     "text": [
      "modulo simple\n"
     ]
    }
   ],
   "source": [
    "import src.modulo_simple as simple   # Carga el fichero"
   ]
  },
  {
   "cell_type": "code",
   "execution_count": null,
   "metadata": {},
   "outputs": [
    {
     "data": {
      "text/plain": [
       "1"
      ]
     },
     "execution_count": 7,
     "metadata": {},
     "output_type": "execute_result"
    }
   ],
   "source": [
    "simple.spam              # Se inicializa la variable spam "
   ]
  },
  {
   "cell_type": "code",
   "execution_count": null,
   "metadata": {},
   "outputs": [
    {
     "data": {
      "text/plain": [
       "2"
      ]
     },
     "execution_count": 8,
     "metadata": {},
     "output_type": "execute_result"
    }
   ],
   "source": [
    "simple.spam = 2                                 # Cambia el atributo\n",
    "import src.modulo_simple as simple              # Carga modulo_simple\n",
    "simple.spam                           \n"
   ]
  },
  {
   "cell_type": "code",
   "execution_count": null,
   "metadata": {},
   "outputs": [
    {
     "name": "stdout",
     "output_type": "stream",
     "text": [
      "modulo simple\n"
     ]
    },
    {
     "data": {
      "text/plain": [
       "<module 'src.modulo_simple' from '/home/davidg/Escritorio/codigo/python-fundamentals-nb/notebooks/../src/modulo_simple.py'>"
      ]
     },
     "execution_count": 9,
     "metadata": {},
     "output_type": "execute_result"
    }
   ],
   "source": [
    "# Python resetea las variables globales y recarga los modulos. \n",
    "# importlib.reload() recarga un modulo previamente importado.\n",
    "\n",
    "# El argumento debe ser un objeto y haber sido importado anteriormente con éxito.\n",
    "import importlib\n",
    "importlib.reload(simple)"
   ]
  },
  {
   "cell_type": "markdown",
   "metadata": {},
   "source": [
    "### Asignaciones\n",
    "\n",
    "`def`, `import` y `from` son sentencias ejecutables. \n",
    "\n",
    "- Pueden anidarse en sentencias `if`; \n",
    "- aparecer en las definiciones de funciones;\n",
    "- ser usadas en sentencias `try`.\n",
    "\n",
    "No se ejecutan hasta que Python las alcanza mientras se ejecuta el programa.\n",
    "\n",
    "- `import` asigna un objeto entero a un único nombre.\n",
    "- `from` asigna uno o más nombres a objetos con los mismos nombres en otro módulo."
   ]
  },
  {
   "cell_type": "code",
   "execution_count": null,
   "metadata": {},
   "outputs": [],
   "source": [
    "x = 1\n",
    "y = [1, 2]"
   ]
  },
  {
   "cell_type": "code",
   "execution_count": null,
   "metadata": {},
   "outputs": [
    {
     "data": {
      "text/plain": [
       "(42, [42, 2])"
      ]
     },
     "execution_count": 11,
     "metadata": {},
     "output_type": "execute_result"
    }
   ],
   "source": [
    "from src.modulo_small import x, y       \n",
    "x = 42                                  \n",
    "y[0] = 42                               \n",
    "x, y"
   ]
  },
  {
   "cell_type": "markdown",
   "metadata": {},
   "source": [
    "`y` es un objeto compartido mutable:"
   ]
  },
  {
   "cell_type": "code",
   "execution_count": null,
   "metadata": {},
   "outputs": [
    {
     "data": {
      "text/plain": [
       "(1, [42, 2])"
      ]
     },
     "execution_count": 12,
     "metadata": {},
     "output_type": "execute_result"
    }
   ],
   "source": [
    "import src.modulo_small as small    \n",
    "small.x                             \n",
    "small.x, small.y                    \n"
   ]
  },
  {
   "cell_type": "markdown",
   "metadata": {},
   "source": [
    "#### Cambios de nombres entre ficheros"
   ]
  },
  {
   "cell_type": "code",
   "execution_count": null,
   "metadata": {},
   "outputs": [
    {
     "data": {
      "text/plain": [
       "(42, 1)"
      ]
     },
     "execution_count": 13,
     "metadata": {},
     "output_type": "execute_result"
    }
   ],
   "source": [
    "from src.modulo_small import x, y       \n",
    "x = 42                                  \n",
    "import src.modulo_small as small        \n",
    "x, small.x    "
   ]
  },
  {
   "cell_type": "code",
   "execution_count": 14,
   "metadata": {},
   "outputs": [
    {
     "data": {
      "text/plain": [
       "<module 'src.modulo_small' from '/home/davidg/Escritorio/codigo/python-fundamentals-nb/notebooks/../src/modulo_small.py'>"
      ]
     },
     "execution_count": 14,
     "metadata": {},
     "output_type": "execute_result"
    }
   ],
   "source": [
    "importlib.reload(small)"
   ]
  }
 ],
 "metadata": {
  "kernelspec": {
   "display_name": "Python 3",
   "language": "python",
   "name": "python3"
  },
  "language_info": {
   "codemirror_mode": {
    "name": "ipython",
    "version": 3
   },
   "file_extension": ".py",
   "mimetype": "text/x-python",
   "name": "python",
   "nbconvert_exporter": "python",
   "pygments_lexer": "ipython3",
   "version": "3.12.3"
  }
 },
 "nbformat": 4,
 "nbformat_minor": 2
}
