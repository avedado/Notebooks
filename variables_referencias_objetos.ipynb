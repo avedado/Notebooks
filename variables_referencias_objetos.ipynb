{
 "cells": [
  {
   "cell_type": "markdown",
   "metadata": {},
   "source": [
    "# Variables que hacen referencia a objetos\n"
   ]
  },
  {
   "cell_type": "markdown",
   "metadata": {},
   "source": [
    "## OBJETOS INMUTABLES\n",
    "![Figura cambio de referencia variables](../images/03%20cambios%20de%20referencia.png)"
   ]
  },
  {
   "cell_type": "markdown",
   "metadata": {},
   "source": [
    "Existen los objetos inmutables"
   ]
  },
  {
   "cell_type": "code",
   "execution_count": 1,
   "metadata": {},
   "outputs": [
    {
     "name": "stdout",
     "output_type": "stream",
     "text": [
      "b es  3\n",
      "b es  3\n"
     ]
    }
   ],
   "source": [
    "\n",
    "a = 3\n",
    "b = a               # b es 3\n",
    "print(\"b es \", b)\n",
    "\n",
    "a = 3\n",
    "b = a\n",
    "a = 'spam'          # b es 3\n",
    "print(\"b es \", b)"
   ]
  },
  {
   "cell_type": "markdown",
   "metadata": {},
   "source": [
    "## OBJETOS MUTABLES\n",
    "\n"
   ]
  },
  {
   "cell_type": "markdown",
   "metadata": {},
   "source": [
    "Y los objetos mutables"
   ]
  },
  {
   "cell_type": "markdown",
   "metadata": {},
   "source": [
    "### Listas"
   ]
  },
  {
   "cell_type": "code",
   "execution_count": null,
   "metadata": {},
   "outputs": [
    {
     "name": "stdout",
     "output_type": "stream",
     "text": [
      "L =  [24, 3, 4]\n",
      "M =  [24, 3, 4]\n"
     ]
    }
   ],
   "source": [
    "\n",
    "L = [2, 3, 4]\t    \n",
    "M = L\t\t\t    \n",
    "L[0] = 24 \t\t    \n",
    "\n",
    "print(\"L = \", L)    \n",
    "print(\"M = \", M)    "
   ]
  },
  {
   "cell_type": "markdown",
   "metadata": {},
   "source": [
    "Haciendo copia:\n"
   ]
  },
  {
   "cell_type": "code",
   "execution_count": null,
   "metadata": {},
   "outputs": [
    {
     "name": "stdout",
     "output_type": "stream",
     "text": [
      "L =  [24, 3, 4]\n",
      "M =  [2, 3, 4]\n"
     ]
    }
   ],
   "source": [
    "\n",
    "L = [2, 3, 4]\n",
    "M = L[:]\t\t    \n",
    "L[0] = 24\n",
    "\n",
    "print(\"L = \", L)    \n",
    "\n",
    "print(\"M = \", M)   "
   ]
  },
  {
   "cell_type": "markdown",
   "metadata": {},
   "source": [
    "### Operadores\n",
    "- El operador `==` iguala los valores.\n",
    "- El operador `is` identifica los objetos."
   ]
  },
  {
   "cell_type": "code",
   "execution_count": null,
   "metadata": {},
   "outputs": [
    {
     "data": {
      "text/plain": [
       "True"
      ]
     },
     "execution_count": 6,
     "metadata": {},
     "output_type": "execute_result"
    }
   ],
   "source": [
    "\n",
    "L = [1, 2, 3]\n",
    "M = L \t\t\t    \n",
    "\n",
    "L == M \t\t\t    \n",
    "L is M \t\t\t   \n"
   ]
  },
  {
   "cell_type": "code",
   "execution_count": null,
   "metadata": {},
   "outputs": [
    {
     "name": "stdout",
     "output_type": "stream",
     "text": [
      "L == M True\n",
      "L is M False\n"
     ]
    }
   ],
   "source": [
    "L = [1, 2, 3]\n",
    "M = [1, 2, 3]\t\n",
    "\n",
    "print(\n",
    "    \"L == M\",\n",
    "    L == M \t\t\n",
    ")\n",
    "\n",
    "print(\n",
    "    \"L is M\", \t   \n",
    "    L is M\n",
    ")\n"
   ]
  },
  {
   "cell_type": "markdown",
   "metadata": {},
   "source": [
    "### `sys`"
   ]
  },
  {
   "cell_type": "markdown",
   "metadata": {},
   "source": [
    "`sys` saca el numero de refencias a un objeto:\n"
   ]
  },
  {
   "cell_type": "code",
   "execution_count": null,
   "metadata": {},
   "outputs": [
    {
     "data": {
      "text/plain": [
       "3505"
      ]
     },
     "execution_count": 11,
     "metadata": {},
     "output_type": "execute_result"
    }
   ],
   "source": [
    "import sys\n",
    "sys.getrefcount(1)\t\t"
   ]
  }
 ],
 "metadata": {
  "kernelspec": {
   "display_name": "Python 3",
   "language": "python",
   "name": "python3"
  },
  "language_info": {
   "codemirror_mode": {
    "name": "ipython",
    "version": 3
   },
   "file_extension": ".py",
   "mimetype": "text/x-python",
   "name": "python",
   "nbconvert_exporter": "python",
   "pygments_lexer": "ipython3",
   "version": "3.8.10"
  },
  "orig_nbformat": 2
 },
 "nbformat": 4,
 "nbformat_minor": 2
}
